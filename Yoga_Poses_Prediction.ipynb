{
  "nbformat": 4,
  "nbformat_minor": 0,
  "metadata": {
    "colab": {
      "provenance": [],
      "collapsed_sections": [],
      "authorship_tag": "ABX9TyO6inQGgihWj36sBtuXMgir",
      "include_colab_link": true
    },
    "kernelspec": {
      "name": "python3",
      "display_name": "Python 3"
    },
    "language_info": {
      "name": "python"
    }
  },
  "cells": [
    {
      "cell_type": "markdown",
      "metadata": {
        "id": "view-in-github",
        "colab_type": "text"
      },
      "source": [
        "<a href=\"https://colab.research.google.com/github/moon0825/Yoga-Pose-classification-model/blob/main/Yoga_Poses_Prediction.ipynb\" target=\"_parent\"><img src=\"https://colab.research.google.com/assets/colab-badge.svg\" alt=\"Open In Colab\"/></a>"
      ]
    },
    {
      "cell_type": "code",
      "source": [
        "#yoga pose Dataset path\n",
        "#https://www.kaggle.com/datasets/niharika41298/yoga-poses-dataset\n",
        "#Use media-pipe to extract pose skeleton values from the data.\n",
        "#Based on that value, it is the code to find the best ML model through Pycaret, store the model, and predict it.\n",
        "#Kaggle saves the dataset to Google Drive and loads the compressed file for use"
      ],
      "metadata": {
        "id": "_f1pEPK_DEC5"
      },
      "execution_count": null,
      "outputs": []
    },
    {
      "cell_type": "code",
      "execution_count": null,
      "metadata": {
        "id": "OmeXWzEwfEuQ"
      },
      "outputs": [],
      "source": [
        "!pip install numpy\n",
        "!pip install opencv-python\n",
        "!pip install tqdm\n",
        "!pip install mediapipe\n",
        "#media-pipe 0.8.11"
      ]
    },
    {
      "cell_type": "code",
      "source": [
        "!pip install pycaret==2.3.10"
      ],
      "metadata": {
        "id": "w-kgWb7OvBVZ"
      },
      "execution_count": null,
      "outputs": []
    },
    {
      "cell_type": "code",
      "source": [
        "!pip install xgboost==1.6.0"
      ],
      "metadata": {
        "id": "Wp1XLcNHvE33"
      },
      "execution_count": null,
      "outputs": []
    },
    {
      "cell_type": "code",
      "source": [
        "from google.colab import drive\n",
        "drive.mount('/content/drive')"
      ],
      "metadata": {
        "id": "6jiHNO1hfw4N"
      },
      "execution_count": null,
      "outputs": []
    },
    {
      "cell_type": "code",
      "source": [
        "drive_path = '/content/drive/MyDrive/프로젝트/Yoga-Poses'"
      ],
      "metadata": {
        "id": "qfxiNZ3Dfx23"
      },
      "execution_count": null,
      "outputs": []
    },
    {
      "cell_type": "code",
      "source": [
        "yoga_path = drive_path + '/archive.zip'\n",
        "!cp \"$yoga_path\" .\n",
        "!unzip 'archive.zip'"
      ],
      "metadata": {
        "id": "o_MxJcDgfmtX"
      },
      "execution_count": null,
      "outputs": []
    },
    {
      "cell_type": "code",
      "source": [
        "#Load the csv file that you saved to the drive\n",
        "yoga_train_path = drive_path + '/fitness_poses_csvs_out_basic.csv'\n",
        "!cp \"$yoga_train_path\" .\n",
        "\n",
        "yoga_test_path = drive_path + '/fitness_poses_csvs_out_TEST.csv'\n",
        "!cp \"$yoga_test_path\" ."
      ],
      "metadata": {
        "id": "NhH1VEesuTZA"
      },
      "execution_count": null,
      "outputs": []
    },
    {
      "cell_type": "code",
      "source": [
        "# Folder with images to use as target poses for classification.\n",
        "#\n",
        "# Images should repesent terminal states of desired pose classes.\n",
        "images_in_folder = '/content/DATASET/TRAIN'\n",
        "\n",
        "# Output folders for bootstrapped images and CSVs. Image will have a predicted\n",
        "# Pose rendering and can be used to remove unwanted samples.\n",
        "images_out_folder = 'fitness_poses_images_out_basic'\n",
        "\n",
        "# Output CSV path to put bootstrapped poses to. This CSV will be used by the\n",
        "# demo App.\n",
        "#\n",
        "# Output CSV format:\n",
        "#   sample_00001,pose_class_1,x1,y1,z1,x2,y2,z2,...,x33,y33,z33\n",
        "#   sample_00002,pose_class_2,x1,y1,z1,x2,y2,z2,...,x33,y33,z33\n",
        "#   ...\n",
        "#\n",
        "csv_out_path = 'fitness_poses_csvs_out_basic.csv'"
      ],
      "metadata": {
        "id": "OA1--cnEfQvp"
      },
      "execution_count": null,
      "outputs": []
    },
    {
      "cell_type": "code",
      "source": [
        "import mediapipe as mp\n",
        "mp_pose = mp.solutions.pose\n",
        "mp_drawing = mp.solutions.drawing_utils \n",
        "mp_drawing_styles = mp.solutions.drawing_styles\n",
        "\n",
        "help(mp_pose.Pose)"
      ],
      "metadata": {
        "id": "2tAPXzWZrzfF"
      },
      "execution_count": null,
      "outputs": []
    },
    {
      "cell_type": "code",
      "source": [
        "import csv\n",
        "import cv2\n",
        "import numpy as np\n",
        "import os\n",
        "import sys\n",
        "import tqdm\n",
        "\n",
        "from mediapipe.python.solutions import drawing_utils as mp_drawing\n",
        "from mediapipe.python.solutions import pose as mp_pose\n",
        "\n",
        "\n",
        "with open(csv_out_path, 'w') as csv_out_file:\n",
        "  csv_out_writer = csv.writer(csv_out_file, delimiter=',', quoting=csv.QUOTE_MINIMAL)\n",
        "\n",
        "  # Folder names are used as pose class names.\n",
        "  pose_class_names = sorted([n for n in os.listdir(images_in_folder) if not n.startswith('.')])\n",
        "\n",
        "  for pose_class_name in pose_class_names:\n",
        "    print('Bootstrapping ', pose_class_name, file=sys.stderr)\n",
        "\n",
        "    if not os.path.exists(os.path.join(images_out_folder, pose_class_name)):\n",
        "      os.makedirs(os.path.join(images_out_folder, pose_class_name))\n",
        "\n",
        "    image_names = sorted([\n",
        "        n for n in os.listdir(os.path.join(images_in_folder, pose_class_name))\n",
        "        if not n.startswith('.')])\n",
        "    for image_name in tqdm.tqdm(image_names, position=0):\n",
        "      # Load image. 함수화 시키기\n",
        "      input_frame = cv2.imread(os.path.join(images_in_folder, pose_class_name, image_name))\n",
        "      input_frame = cv2.cvtColor(input_frame, cv2.COLOR_BGR2RGB)\n",
        "\n",
        "      # Initialize fresh pose tracker and run it.\n",
        "      with mp_pose.Pose(\n",
        "              static_image_mode=True,\n",
        "              model_complexity=2,\n",
        "              enable_segmentation=True,\n",
        "              min_detection_confidence=0.5) as pose_tracker:\n",
        "        result = pose_tracker.process(image=input_frame)\n",
        "        pose_landmarks = result.pose_landmarks\n",
        "      # Save image with pose prediction (if pose was detected).\n",
        "      output_frame = input_frame.copy()\n",
        "      if pose_landmarks is not None:\n",
        "        mp_drawing.draw_landmarks(\n",
        "            image=output_frame,\n",
        "            landmark_list=pose_landmarks,\n",
        "            connections=mp_pose.POSE_CONNECTIONS)\n",
        "      output_frame = cv2.cvtColor(output_frame, cv2.COLOR_RGB2BGR)\n",
        "      cv2.imwrite(os.path.join(images_out_folder, image_name), output_frame)\n",
        "      \n",
        "      # Save landmarks.\n",
        "      if pose_landmarks is not None:\n",
        "        # Check the number of landmarks and take pose landmarks.\n",
        "        assert len(pose_landmarks.landmark) == 33, 'Unexpected number of predicted pose landmarks: {}'.format(len(pose_landmarks.landmark))\n",
        "        pose_landmarks = [[lmk.x, lmk.y, lmk.z] for lmk in pose_landmarks.landmark]\n",
        "\n",
        "        # Map pose landmarks from [0, 1] range to absolute coordinates to get\n",
        "        # correct aspect ratio.\n",
        "        frame_height, frame_width = output_frame.shape[:2]\n",
        "        pose_landmarks *= np.array([frame_width, frame_height, frame_width])\n",
        "\n",
        "        # Write pose sample to CSV.\n",
        "        pose_landmarks = np.around(pose_landmarks, 5).flatten().astype(np.str).tolist()\n",
        "        csv_out_writer.writerow([image_name, pose_class_name] + pose_landmarks)"
      ],
      "metadata": {
        "id": "mtOyAyxgizBX"
      },
      "execution_count": null,
      "outputs": []
    },
    {
      "cell_type": "code",
      "source": [
        "!cp \"./fitness_poses_csvs_out_basic.csv\" \"$drive_path\"\n",
        "!cp -r \"fitness_poses_images_out_basic\" \"$drive_path\""
      ],
      "metadata": {
        "id": "muN_-eSbU4L5"
      },
      "execution_count": null,
      "outputs": []
    },
    {
      "cell_type": "code",
      "source": [
        "import pandas as pd\n",
        "import numpy as np\n",
        "import matplotlib.pyplot as plt\n",
        "from sklearn import model_selection, preprocessing"
      ],
      "metadata": {
        "id": "4u6nuznhRsZk"
      },
      "execution_count": null,
      "outputs": []
    },
    {
      "cell_type": "markdown",
      "source": [
        "# Using Pycaret"
      ],
      "metadata": {
        "id": "FE9vQ90KZo6N"
      }
    },
    {
      "cell_type": "code",
      "source": [
        "import pandas as pd\n",
        "import numpy as np\n",
        "import matplotlib.pyplot as plt\n",
        "from pycaret.classification import *"
      ],
      "metadata": {
        "id": "j339EoyrGpYM"
      },
      "execution_count": null,
      "outputs": []
    },
    {
      "cell_type": "code",
      "source": [
        "yp_df = pd.read_csv(\"fitness_poses_csvs_out_basic.csv\",header=None)\n",
        "yp_df = yp_df.rename(columns={0:'name', 1:'pose'})"
      ],
      "metadata": {
        "id": "P0zA3diAvAB4"
      },
      "execution_count": null,
      "outputs": []
    },
    {
      "cell_type": "code",
      "source": [
        "yp_data_df = yp_df.drop(['name'], axis=1)"
      ],
      "metadata": {
        "id": "csJqA1WzvEPM"
      },
      "execution_count": null,
      "outputs": []
    },
    {
      "cell_type": "code",
      "source": [
        "yp_data_df"
      ],
      "metadata": {
        "id": "9gFllzVDSg9N"
      },
      "execution_count": null,
      "outputs": []
    },
    {
      "cell_type": "code",
      "source": [
        "model = setup(data=yp_data_df, \n",
        "              target='pose', \n",
        "              train_size=0.7, # default value\n",
        "              session_id=9,\n",
        "              use_gpu=True) # Random seed"
      ],
      "metadata": {
        "id": "hUL6Kaq5Gi8a"
      },
      "execution_count": null,
      "outputs": []
    },
    {
      "cell_type": "markdown",
      "source": [
        "# Optimal Model Using Pycaret\n",
        "|index|Model|Accuracy|AUC|Recall|Prec\\.|F1|Kappa|MCC|TT \\(Sec\\)|\n",
        "|---|---|---|---|---|---|---|---|---|---|\n",
        "|lightgbm|Light Gradient Boosting Machine|0\\.8682|0\\.9775|0\\.8653|0\\.8785|0\\.8664|0\\.8334|0\\.8365|1\\.058|\n",
        "|xgboost|Extreme Gradient Boosting|0\\.8529|0\\.9764|0\\.849|0\\.8637|0\\.8505|0\\.814|0\\.8174|2\\.197|\n",
        "|et|Extra Trees Classifier|0\\.8433|0\\.9666|0\\.8374|0\\.8494|0\\.8415|0\\.8017|0\\.8041|1\\.067|\n",
        "|lr|Logistic Regression|0\\.8404|0\\.9463|0\\.8399|0\\.8489|0\\.8391|0\\.7989|0\\.8015|2\\.239|\n",
        "|rf|Random Forest Classifier|0\\.8239|0\\.9641|0\\.817|0\\.8314|0\\.821|0\\.7771|0\\.7802|1\\.016|\n",
        "|gbc|Gradient Boosting Classifier|0\\.8182|0\\.9619|0\\.811|0\\.8287|0\\.8163|0\\.7699|0\\.7728|4\\.225|\n",
        "|knn|K Neighbors Classifier|0\\.7628|0\\.9375|0\\.7626|0\\.7725|0\\.7636|0\\.7016|0\\.7034|0\\.421|\n",
        "|svm|SVM - Linear Kernel|0\\.7365|0\\.0|0\\.7345|0\\.7828|0\\.7297|0\\.6681|0\\.681|0\\.117|\n",
        "|dt|Decision Tree Classifier|0\\.7198|0\\.8216|0\\.7133|0\\.7307|0\\.7182|0\\.6451|0\\.6481|0\\.04|\n",
        "|ridge|Ridge Classifier|0\\.6893|0\\.0|0\\.6856|0\\.697|0\\.6874|0\\.6062|0\\.6086|0\\.059|\n",
        "|lda|Linear Discriminant Analysis|0\\.5686|0\\.8167|0\\.5569|0\\.5807|0\\.5673|0\\.4539|0\\.4564|0\\.201|\n",
        "|ada|Ada Boost Classifier|0\\.5547|0\\.7834|0\\.5492|0\\.59|0\\.5567|0\\.4358|0\\.4416|0\\.282|\n",
        "|qda|Quadratic Discriminant Analysis|0\\.5437|0\\.7089|0\\.5263|0\\.5603|0\\.5283|0\\.4194|0\\.4285|0\\.08|\n",
        "|dummy|Dummy Classifier|0\\.2538|0\\.5|0\\.2|0\\.0645|0\\.1028|0\\.0|0\\.0|0\\.01|\n",
        "|nb|Naive Bayes|0\\.086|0\\.3544|0\\.1112|0\\.0368|0\\.0508|-0\\.1221|-0\\.1292|0\\.024|"
      ],
      "metadata": {
        "id": "jeiqh5puW1sf"
      }
    },
    {
      "cell_type": "code",
      "source": [
        "top_3_models = compare_models(sort='Accuracy', # Other options are 'AUC', 'Recall', 'Precision', 'F1', 'Kappa' and 'MCC'\n",
        "                              n_select = 3) # Select top n models "
      ],
      "metadata": {
        "id": "xOUD0jx2HIRe"
      },
      "execution_count": null,
      "outputs": []
    },
    {
      "cell_type": "markdown",
      "source": [
        "![image.png](data:image/png;base64,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)"
      ],
      "metadata": {
        "id": "-Xm5ymmNXfXK"
      }
    },
    {
      "cell_type": "markdown",
      "source": [
        "![image.png](data:image/png;base64,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)"
      ],
      "metadata": {
        "id": "T_TpdsrLYEGD"
      }
    },
    {
      "cell_type": "code",
      "source": [
        "evaluate_model(top_3_models[0])"
      ],
      "metadata": {
        "id": "U4BOVMl_RdrK"
      },
      "execution_count": null,
      "outputs": []
    },
    {
      "cell_type": "code",
      "source": [
        "predict_model(top_3_models[0])"
      ],
      "metadata": {
        "id": "X2XsU0RPYMES"
      },
      "execution_count": null,
      "outputs": []
    },
    {
      "cell_type": "markdown",
      "source": [
        "# Blending\n"
      ],
      "metadata": {
        "id": "SHL9PWnFYcGi"
      }
    },
    {
      "cell_type": "code",
      "source": [
        "blended = blend_models(estimator_list=top_3_models, \n",
        "                       fold=10, # default\n",
        "                       optimize='Accuracy',\n",
        "                       method = 'hard')"
      ],
      "metadata": {
        "id": "PABtJQAOYbuC"
      },
      "execution_count": null,
      "outputs": []
    },
    {
      "cell_type": "code",
      "source": [
        "final_blended = finalize_model(blended)\n",
        "print(final_blended)"
      ],
      "metadata": {
        "id": "sUOhpsaFYgnx"
      },
      "execution_count": null,
      "outputs": []
    },
    {
      "cell_type": "code",
      "source": [
        "predict_model(final_blended)"
      ],
      "metadata": {
        "id": "nH6-wra1ZHuG"
      },
      "execution_count": null,
      "outputs": []
    },
    {
      "cell_type": "code",
      "source": [
        "holdout_data = yp_df.sample(frac=0.10, random_state=0).reset_index(drop=True)\n",
        "\n",
        "unseen_predictions = predict_model(final_blended, data=holdout_data)\n",
        "unseen_predictions"
      ],
      "metadata": {
        "id": "1Kq4fx4_ZZYh"
      },
      "execution_count": null,
      "outputs": []
    },
    {
      "cell_type": "code",
      "source": [
        "save_model(final_blended, 'final_blended')"
      ],
      "metadata": {
        "id": "_PkEKlUVaBek"
      },
      "execution_count": null,
      "outputs": []
    },
    {
      "cell_type": "code",
      "source": [
        "!cp \"./final_blended.pkl\" \"$drive_path\""
      ],
      "metadata": {
        "id": "yUfvz5SWaIsz"
      },
      "execution_count": null,
      "outputs": []
    },
    {
      "cell_type": "code",
      "source": [
        "from google.colab import files\n",
        "#files.download('final_blended.pkl')"
      ],
      "metadata": {
        "id": "eRuyUyovaJmn"
      },
      "execution_count": null,
      "outputs": []
    },
    {
      "cell_type": "code",
      "source": [
        "from pycaret.classification import load_model\n",
        "yoga_model_path = drive_path + '/final_blended.pkl'\n",
        "yoga_path = drive_path + '/fitness_poses_csvs_out_TEST.csv'\n",
        "!cp \"$yoga_path\" .\n",
        "!cp \"$yoga_model_path\" .\n"
      ],
      "metadata": {
        "id": "jP6O7T0CaWmK"
      },
      "execution_count": null,
      "outputs": []
    },
    {
      "cell_type": "code",
      "source": [
        "loaded_model = load_model('final_blended')"
      ],
      "metadata": {
        "id": "TNm8CvwUiGi9"
      },
      "execution_count": null,
      "outputs": []
    },
    {
      "cell_type": "code",
      "source": [
        "yoga_path = drive_path + '/fitness_poses_csvs_out_TEST.csv'\n",
        "!cp \"$yoga_path\" ."
      ],
      "metadata": {
        "id": "SSnsAe0XkdcT"
      },
      "execution_count": null,
      "outputs": []
    },
    {
      "cell_type": "code",
      "source": [
        "yp_df = pd.read_csv(\"fitness_poses_csvs_out_TEST.csv\",header=None)\n",
        "yp_df = yp_df.rename(columns={0:'name', 1:'pose'})\n",
        "yp_data_df = yp_df.drop(['name'], axis=1)\n",
        "\n",
        "holdout_data = yp_data_df.sample(frac=0.10, random_state=0).reset_index(drop=True)\n",
        "\n",
        "unseen_predictions = predict_model(loaded_model, data=holdout_data)\n",
        "unseen_predictions"
      ],
      "metadata": {
        "id": "cmkphlJ3al-n"
      },
      "execution_count": null,
      "outputs": []
    },
    {
      "cell_type": "code",
      "source": [
        "from pycaret.utils import check_metric\n",
        "check_metric(unseen_predictions['pose'], unseen_predictions['Label'], metric = 'Accuracy')"
      ],
      "metadata": {
        "id": "CrED-vVZlNNy"
      },
      "execution_count": null,
      "outputs": []
    }
  ]
}